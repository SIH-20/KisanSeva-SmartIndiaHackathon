{
 "cells": [
  {
   "cell_type": "code",
   "execution_count": 1,
   "metadata": {},
   "outputs": [
    {
     "ename": "ModuleNotFoundError",
     "evalue": "No module named 'cv2'",
     "output_type": "error",
     "traceback": [
      "\u001b[1;31m---------------------------------------------------------------------------\u001b[0m",
      "\u001b[1;31mModuleNotFoundError\u001b[0m                       Traceback (most recent call last)",
      "\u001b[1;32m<ipython-input-1-18d41d8d0dee>\u001b[0m in \u001b[0;36m<module>\u001b[1;34m\u001b[0m\n\u001b[0;32m      5\u001b[0m \u001b[0mwarnings\u001b[0m\u001b[1;33m.\u001b[0m\u001b[0mfilterwarnings\u001b[0m\u001b[1;33m(\u001b[0m\u001b[1;34m\"ignore\"\u001b[0m\u001b[1;33m,\u001b[0m \u001b[0mmessage\u001b[0m\u001b[1;33m=\u001b[0m\u001b[1;34m\"numpy.ufunc size changed\"\u001b[0m\u001b[1;33m)\u001b[0m\u001b[1;33m\u001b[0m\u001b[1;33m\u001b[0m\u001b[0m\n\u001b[0;32m      6\u001b[0m \u001b[1;33m\u001b[0m\u001b[0m\n\u001b[1;32m----> 7\u001b[1;33m \u001b[1;32mfrom\u001b[0m \u001b[0mutil\u001b[0m \u001b[1;32mimport\u001b[0m \u001b[0mdisplay_mask\u001b[0m\u001b[1;33m,\u001b[0m \u001b[0mget_boundry_img_matrix\u001b[0m\u001b[1;33m\u001b[0m\u001b[1;33m\u001b[0m\u001b[0m\n\u001b[0m\u001b[0;32m      8\u001b[0m \u001b[1;32mfrom\u001b[0m \u001b[0mPCA\u001b[0m \u001b[1;32mimport\u001b[0m \u001b[0mpca\u001b[0m\u001b[1;33m\u001b[0m\u001b[1;33m\u001b[0m\u001b[0m\n\u001b[0;32m      9\u001b[0m \u001b[1;32mimport\u001b[0m \u001b[0mnumpy\u001b[0m \u001b[1;32mas\u001b[0m \u001b[0mnp\u001b[0m\u001b[1;33m\u001b[0m\u001b[1;33m\u001b[0m\u001b[0m\n",
      "\u001b[1;32m~\\Wheat-quality-detector-2-master\\util.py\u001b[0m in \u001b[0;36m<module>\u001b[1;34m\u001b[0m\n\u001b[1;32m----> 1\u001b[1;33m \u001b[1;32mimport\u001b[0m \u001b[0mnumpy\u001b[0m \u001b[1;32mas\u001b[0m \u001b[0mnp\u001b[0m\u001b[1;33m,\u001b[0m \u001b[0mcv2\u001b[0m\u001b[1;33m,\u001b[0m \u001b[0mos\u001b[0m\u001b[1;33m\u001b[0m\u001b[1;33m\u001b[0m\u001b[0m\n\u001b[0m\u001b[0;32m      2\u001b[0m \u001b[1;33m\u001b[0m\u001b[0m\n\u001b[0;32m      3\u001b[0m \u001b[0mcolor\u001b[0m \u001b[1;33m=\u001b[0m \u001b[1;33m{\u001b[0m\u001b[0mi\u001b[0m\u001b[1;33m:\u001b[0m \u001b[0mnp\u001b[0m\u001b[1;33m.\u001b[0m\u001b[0mrandom\u001b[0m\u001b[1;33m.\u001b[0m\u001b[0mrandint\u001b[0m\u001b[1;33m(\u001b[0m\u001b[1;36m20\u001b[0m\u001b[1;33m,\u001b[0m \u001b[1;36m255\u001b[0m\u001b[1;33m,\u001b[0m \u001b[1;36m3\u001b[0m\u001b[1;33m)\u001b[0m \u001b[1;32mfor\u001b[0m \u001b[0mi\u001b[0m \u001b[1;32min\u001b[0m \u001b[0mrange\u001b[0m\u001b[1;33m(\u001b[0m\u001b[1;36m3\u001b[0m\u001b[1;33m,\u001b[0m \u001b[1;36m100000\u001b[0m\u001b[1;33m)\u001b[0m\u001b[1;33m}\u001b[0m\u001b[1;33m\u001b[0m\u001b[1;33m\u001b[0m\u001b[0m\n\u001b[0;32m      4\u001b[0m \u001b[0mcolor\u001b[0m\u001b[1;33m[\u001b[0m\u001b[1;36m1\u001b[0m\u001b[1;33m]\u001b[0m \u001b[1;33m=\u001b[0m \u001b[1;33m[\u001b[0m\u001b[1;36m255\u001b[0m\u001b[1;33m,\u001b[0m \u001b[1;36m255\u001b[0m\u001b[1;33m,\u001b[0m \u001b[1;36m255\u001b[0m\u001b[1;33m]\u001b[0m\u001b[1;33m\u001b[0m\u001b[1;33m\u001b[0m\u001b[0m\n\u001b[0;32m      5\u001b[0m \u001b[0mcolor\u001b[0m\u001b[1;33m[\u001b[0m\u001b[1;36m2\u001b[0m\u001b[1;33m]\u001b[0m \u001b[1;33m=\u001b[0m \u001b[1;33m[\u001b[0m\u001b[1;36m0\u001b[0m\u001b[1;33m,\u001b[0m \u001b[1;36m0\u001b[0m\u001b[1;33m,\u001b[0m \u001b[1;36m255\u001b[0m\u001b[1;33m]\u001b[0m\u001b[1;33m\u001b[0m\u001b[1;33m\u001b[0m\u001b[0m\n",
      "\u001b[1;31mModuleNotFoundError\u001b[0m: No module named 'cv2'"
     ]
    }
   ],
   "source": [
    "## this file contain code for binary classification i.e. good or not good grain\n",
    "\n",
    "import warnings\n",
    "warnings.filterwarnings(\"ignore\", message=\"numpy.dtype size changed\")\n",
    "warnings.filterwarnings(\"ignore\", message=\"numpy.ufunc size changed\")\n",
    "\n",
    "from util import display_mask, get_boundry_img_matrix\n",
    "from PCA import pca\n",
    "import numpy as np\n",
    "import keras\n",
    "import cv2\n",
    "from segment_formation_v6 import segment_image4\n",
    "\n",
    "if __name__ == \"__main__\":\n",
    "    color = {i: np.random.randint(20, 255, 3) for i in range(5, 5000)}\n",
    "    color[1] = [255, 255, 255]\n",
    "    color[2] = [0, 0, 255]\n",
    "    imgFile =  raw_input(\"Enter the file(wheat image) location to dectect : \")\n",
    "    # imgFile = 'test.jpg'\n",
    "    count = 1\n",
    "\n",
    "    model = keras.models.load_model('weights_results_2out/weights_01234567.pkl')\n",
    "\n",
    "    # for imgFile in imgFile:\n",
    "    print (\"Segmentation in process...\")\n",
    "    segments, segLocation, _, mask= segment_image4(imgFile)\n",
    "    print (\"Segmentation in Complete.\")\n",
    "\n",
    "\n",
    "    features = {}\n",
    "    print (\"Feature extraction in process...\")\n",
    "    for gi in segments:\n",
    "        gcolor = segments[gi]\n",
    "        h, w, _ = gcolor.shape\n",
    "        ggray = gcolor[:,:,2]\n",
    "        thresh = np.array([[255 if pixel > 20 else 0 for pixel in row] for row in ggray])\n",
    "        b = np.array(get_boundry_img_matrix(thresh, bval=1), dtype=np.float32)\n",
    "        boundry = np.sum(b) / (h * w)\n",
    "        area = np.sum(np.sum([[1.0 for j in range(w) if ggray[i, j]] for i in range(h)]))\n",
    "        mean_area = area / (h * w)\n",
    "        r, b, g = np.sum([gcolor[i, j] for j in range(w) for i in range(h)], axis=0) / (area * 256)\n",
    "        _, _, eigen_value = pca(ggray)\n",
    "        eccentricity = eigen_value[0] / eigen_value[1]\n",
    "        l = [mean_area, boundry, r, b, g, eigen_value[0], eigen_value[1], eccentricity]\n",
    "        features[gi] = np.array(l)\n",
    "    print(\"Feature extraction in complete.\")\n",
    "\n",
    "    out = {}\n",
    "    for i in features:\n",
    "        out[i] = model.predict(np.array([features[i]]))\n",
    "\n",
    "    rect = cv2.imread(imgFile, cv2.IMREAD_COLOR)\n",
    "    good = not_good = 0\n",
    "    for i in out:\n",
    "        try:\n",
    "            s = segLocation[i]\n",
    "        except KeyError:\n",
    "            print (\"Key Error\")\n",
    "            continue\n",
    "        if np.argmax(out[i][0]) == 0:\n",
    "            good += 1\n",
    "            rect = cv2.rectangle(rect, (s[2], s[0]), (s[3], s[1]), (0, 0, 0), 1)\n",
    "        else:\n",
    "            not_good+=1\n",
    "            rect = cv2.rectangle(rect, (s[2], s[0]), (s[3], s[1]), (0, 0, 255), 3)\n",
    "    print (\"Number of good grain :\", good)\n",
    "    print (\"Number Not good grain or imputity:\", not_good)\n",
    "\n",
    "    font = cv2.FONT_HERSHEY_SIMPLEX\n",
    "    h, w, _ = rect.shape\n",
    "    cv2.putText(rect, text='Number of good grain: %d  Number Not good grain or imputity: %d'%(good,not_good), org=(10, h - 50), fontScale=1, fontFace=font, color=(255, 255, 255), thickness=2, lineType=cv2.LINE_AA)\n",
    "\n",
    "    maskFile = 'mask_'+imgFile.split('/')[-1]\n",
    "    outFile = 'result_'+imgFile.split('/')[-1]\n",
    "    cv2.imwrite(outFile, rect)\n",
    "    display_mask('mask',mask,sname=maskFile)\n",
    "    cv2.waitKey(0)\n",
    "    count+=1"
   ]
  },
  {
   "cell_type": "code",
   "execution_count": 10,
   "metadata": {},
   "outputs": [],
   "source": [
    "import tensorflow\n"
   ]
  },
  {
   "cell_type": "code",
   "execution_count": null,
   "metadata": {
    "collapsed": true
   },
   "outputs": [],
   "source": []
  }
 ],
 "metadata": {
  "kernelspec": {
   "display_name": "Python 3",
   "language": "python",
   "name": "python3"
  },
  "language_info": {
   "codemirror_mode": {
    "name": "ipython",
    "version": 3
   },
   "file_extension": ".py",
   "mimetype": "text/x-python",
   "name": "python",
   "nbconvert_exporter": "python",
   "pygments_lexer": "ipython3",
   "version": "3.6.8"
  }
 },
 "nbformat": 4,
 "nbformat_minor": 2
}
